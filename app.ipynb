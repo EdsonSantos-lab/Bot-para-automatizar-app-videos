{
 "cells": [
  {
   "cell_type": "code",
   "execution_count": null,
   "metadata": {},
   "outputs": [],
   "source": [
    "import pyautogui\n",
    "import time\n",
    "for c in range(1): #100000000000000000 \n",
    "    # Espera 2 segundos para você mover o mouse manualmente antes de começar\n",
    "    time.sleep(2)\n",
    "\n",
    "    # Move o mouse para a posição inicial\n",
    "    pyautogui.moveTo(200 , 826, duration=0.2)\n",
    "\n",
    "    # Clica e segura o botão esquerdo do mouse\n",
    "    pyautogui.mouseDown()\n",
    "\n",
    "    # Arrasta até a posição final (200, 200)\n",
    "    pyautogui.dragTo(243 , 133,  duration=0.2)  # duration controla a velocidade do arraste\n",
    "\n",
    "    # Solta o botão do mouse\n",
    "    pyautogui.mouseUp()\n",
    "\n",
    "    time.sleep(10)\n"
   ]
  },
  {
   "cell_type": "code",
   "execution_count": 67,
   "metadata": {},
   "outputs": [
    {
     "name": "stdout",
     "output_type": "stream",
     "text": [
      "243 , 133\n"
     ]
    }
   ],
   "source": [
    "import pyautogui\n",
    "import time\n",
    "time.sleep(5)\n",
    "x, y = pyautogui.position()\n",
    "\n",
    "print(x,\",\", y)"
   ]
  }
 ],
 "metadata": {
  "kernelspec": {
   "display_name": "Python 3",
   "language": "python",
   "name": "python3"
  },
  "language_info": {
   "codemirror_mode": {
    "name": "ipython",
    "version": 3
   },
   "file_extension": ".py",
   "mimetype": "text/x-python",
   "name": "python",
   "nbconvert_exporter": "python",
   "pygments_lexer": "ipython3",
   "version": "3.12.8"
  }
 },
 "nbformat": 4,
 "nbformat_minor": 2
}
